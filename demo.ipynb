{
 "cells": [
  {
   "cell_type": "code",
   "execution_count": 1,
   "metadata": {},
   "outputs": [],
   "source": [
    "import torch"
   ]
  },
  {
   "cell_type": "code",
   "execution_count": 2,
   "metadata": {},
   "outputs": [],
   "source": [
    "data_path = \"./train_data_50.pth\"\n",
    "\n",
    "data = torch.load(data_path)"
   ]
  },
  {
   "cell_type": "code",
   "execution_count": 8,
   "metadata": {},
   "outputs": [
    {
     "data": {
      "text/plain": [
       "array([[ 0],\n",
       "       [48],\n",
       "       [47],\n",
       "       [37],\n",
       "       [32],\n",
       "       [39],\n",
       "       [ 7],\n",
       "       [ 4],\n",
       "       [ 9],\n",
       "       [43],\n",
       "       [15],\n",
       "       [17],\n",
       "       [31],\n",
       "       [21],\n",
       "       [34],\n",
       "       [40],\n",
       "       [22],\n",
       "       [25],\n",
       "       [23],\n",
       "       [24],\n",
       "       [27],\n",
       "       [ 5],\n",
       "       [26],\n",
       "       [13],\n",
       "       [ 8],\n",
       "       [41],\n",
       "       [45],\n",
       "       [20],\n",
       "       [ 6],\n",
       "       [ 3],\n",
       "       [38],\n",
       "       [49],\n",
       "       [19],\n",
       "       [35],\n",
       "       [16],\n",
       "       [ 2],\n",
       "       [46],\n",
       "       [28],\n",
       "       [33],\n",
       "       [11],\n",
       "       [30],\n",
       "       [14],\n",
       "       [29],\n",
       "       [12],\n",
       "       [36],\n",
       "       [ 1],\n",
       "       [10],\n",
       "       [42],\n",
       "       [44],\n",
       "       [18]], dtype=int32)"
      ]
     },
     "execution_count": 8,
     "metadata": {},
     "output_type": "execute_result"
    }
   ],
   "source": [
    "data[1][0]"
   ]
  }
 ],
 "metadata": {
  "kernelspec": {
   "display_name": "rl4co",
   "language": "python",
   "name": "python3"
  },
  "language_info": {
   "codemirror_mode": {
    "name": "ipython",
    "version": 3
   },
   "file_extension": ".py",
   "mimetype": "text/x-python",
   "name": "python",
   "nbconvert_exporter": "python",
   "pygments_lexer": "ipython3",
   "version": "3.10.13"
  }
 },
 "nbformat": 4,
 "nbformat_minor": 2
}
